{
 "cells": [
  {
   "cell_type": "markdown",
   "metadata": {},
   "source": [
    "# Karatina University \n",
    "# School Of pure and applied sciences\n",
    "# Department of computer science and Informatics\n",
    "# Data Warehousing and Data Mining\n",
    "# Group 2\n",
    "\n",
    "# List of Members-Group 2 \n",
    "1. Onjomba Felix - P101/0847G/18\n",
    "2. Victor Matongo - P101/0872G/18\n",
    "3. Peter Lekwaro  - P101/0335G/18\n",
    "4. Alex Kilonzo - P101/0842G/18\n",
    "5. Susan Wangare -P101/0870G/18\n",
    "6. Victor Kiprotich-P101/0976G/18\n",
    "7. Andrew Marende-P101/1195G/18\n",
    "8. Barrack Ouma-P101/0849G/18\n",
    "9. Bruno Okoth-P101/0876G/18\n",
    "\n",
    "\n",
    "## Loan Approval Prediction \n",
    "<br>\n",
    "This repo contains the Loan Approval Prediction project as part of my data mining project.  \n",
    "\n",
    "This project covers the whole process from problem statement to model development and evaluation:\n",
    "1. [Problem Statement](#problem)\n",
    "2. [Hypothesis Generation](#hypothesis)\n",
    "3. [Data Collection](#data)\n",
    "4. [Exploratory Data Analysis (EDA)](#eda)\n",
    "5. [Data Pre-processing](#pre)\n",
    "6. [Model Development and Evaluation](#model)\n",
    "7. [Conclusion](#conclusion)\n"
   ]
  },
  {
   "cell_type": "markdown",
   "metadata": {},
   "source": []
  },
  {
   "cell_type": "markdown",
   "metadata": {},
   "source": [
    "***\n",
    "# <a name=\"hypothesis\">Hypothesis Generation</a>\n",
    "Hypothesis Generation is the process of listing out all the possible factors that can affect the outcome i.e. which of the features will have an impact on whether a loan will be approved or not. Some of the hypothesis are: \n",
    "\n",
    "- Education - Applicants with higher education level i.e. graduate level should have higher chances of loan approval\n",
    "- Income: Applicants with higher income should have more chances of loan approval\n",
    "- Loan amount: If the loan amount is less, the chances of loan approval should be high\n",
    "- Loan term: Loans with shorter time period should have higher chances of approval\n",
    "- Previous credit history: Applicants who have repayed their previous debts should have higher chances of loan approval\n",
    "- Monthly installment amount: If the monthly installment amount is low, the chances of loan approval should be high\n",
    "- And so on\n",
    "\n",
    "Some of the hypothesis seem intuitive while others may not. We will try to validate each of these hypothesis based on the dataset.\n",
    "\n"
   ]
  },
  {
   "cell_type": "markdown",
   "metadata": {},
   "source": [
    "***\n",
    "# <a name=\"data\">Data Collection</a>\n",
    "\n",
    ". The training set will be used for training the model, i.e. our model will learn from this data. It contains all the independent variables and the target variable. The test set contains all the independent variables, but not the target variable. We will apply the model to predict the target variable for the test data. There are 13 columns of features and 614 rows of records in the training set and 12 columns of features and 367 rows of records in the test set. The dataset variables are summarized as below:\n",
    "\n",
    "| No | Variable | Type | Description |\n",
    "|---|---|---|---|---|\n",
    "| 1 | Loan_ID | Numerical - Discrete | Unique Loan ID |\n",
    "| 2 | Gender  | Categorical - Nominal  | Male / Female  |\n",
    "| 3 |  Married | Categorical - Nominal  | Applicant married (Y/N)  |\n",
    "| 4 | Dependents  | Categorical - Ordinal  |  Number of dependents (0, 1, 2, 3+) |\n",
    "| 5 | Education  |  Categorical - Nominal |  Applicant Education (Graduate / Under Graduate) |\n",
    "| 6 | Self_Employed  | Categorical - Nominal  |  Self employed (Y/N) |\n",
    "| 7 | ApplicantIncome  | Numerical - Continuous  | Applicant income  |\n",
    "| 8 | CoapplicantIncome  | Numerical - Continuous  |  Coapplicant income |\n",
    "| 9 |  LoanAmount | Numerical - Continuous  |  Loan amount in thousands |\n",
    "| 10 | Loan_Amount_Term  |  Numerical - Discrete |  Term of loan in months |\n",
    "| 11 | Credit_History  | Categorical - Nominal  |  credit history meets guidelines (0, 1) |\n",
    "| 12 | Property_Area  | Categorical - Ordinal  |  Urban / Semi Urban / Rural |\n",
    "| 13 | Loan_Status  |  Categorical - Nominal |  Loan approved (Y/N) |\n",
    "\n"
   ]
  },
  {
   "cell_type": "markdown",
   "metadata": {},
   "source": [
    "***\n",
    "# <a name=\"eda\">Exploratory Data Analysis (EDA)</a>\n",
    "We will use Python to explore the data in order to gain a better understanding of the features and target variable. We will also analyze the data to summarize their main characteristics, using various visualization techniques. "
   ]
  },
  {
   "cell_type": "code",
   "execution_count": 1,
   "metadata": {},
   "outputs": [],
   "source": [
    "# import libraries\n",
    "%matplotlib inline\n",
    "import numpy as np\n",
    "import pandas as pd\n",
    "import matplotlib.pyplot as plt\n",
    "import seaborn as sns\n",
    "import warnings\n",
    "warnings.filterwarnings(\"ignore\")"
   ]
  },
  {
   "cell_type": "code",
   "execution_count": 2,
   "metadata": {},
   "outputs": [],
   "source": [
    "# load the train and test dataset\n",
    "train = pd.read_csv(\"train_u6lujuX_CVtuZ9i.csv\")\n",
    "test = pd.read_csv(\"test_Y3wMUE5_7gLdaTN.csv\")"
   ]
  },
  {
   "cell_type": "code",
   "execution_count": 3,
   "metadata": {},
   "outputs": [],
   "source": [
    "# make a copy of original data\n",
    "# so that even if we have to make any changes in these datasets we would not lose the original datasets\n",
    "\n",
    "train_original = train.copy()\n",
    "test_original = test.copy()"
   ]
  },
  {
   "cell_type": "code",
   "execution_count": 4,
   "metadata": {},
   "outputs": [
    {
     "data": {
      "text/html": [
       "<div>\n",
       "<style scoped>\n",
       "    .dataframe tbody tr th:only-of-type {\n",
       "        vertical-align: middle;\n",
       "    }\n",
       "\n",
       "    .dataframe tbody tr th {\n",
       "        vertical-align: top;\n",
       "    }\n",
       "\n",
       "    .dataframe thead th {\n",
       "        text-align: right;\n",
       "    }\n",
       "</style>\n",
       "<table border=\"1\" class=\"dataframe\">\n",
       "  <thead>\n",
       "    <tr style=\"text-align: right;\">\n",
       "      <th></th>\n",
       "      <th>Loan_ID</th>\n",
       "      <th>Gender</th>\n",
       "      <th>Married</th>\n",
       "      <th>Dependents</th>\n",
       "      <th>Education</th>\n",
       "      <th>Self_Employed</th>\n",
       "      <th>ApplicantIncome</th>\n",
       "      <th>CoapplicantIncome</th>\n",
       "      <th>LoanAmount</th>\n",
       "      <th>Loan_Amount_Term</th>\n",
       "      <th>Credit_History</th>\n",
       "      <th>Property_Area</th>\n",
       "      <th>Loan_Status</th>\n",
       "    </tr>\n",
       "  </thead>\n",
       "  <tbody>\n",
       "    <tr>\n",
       "      <th>0</th>\n",
       "      <td>LP001002</td>\n",
       "      <td>Male</td>\n",
       "      <td>No</td>\n",
       "      <td>0</td>\n",
       "      <td>Graduate</td>\n",
       "      <td>No</td>\n",
       "      <td>5849</td>\n",
       "      <td>0.0</td>\n",
       "      <td>NaN</td>\n",
       "      <td>360.0</td>\n",
       "      <td>1.0</td>\n",
       "      <td>Urban</td>\n",
       "      <td>Y</td>\n",
       "    </tr>\n",
       "    <tr>\n",
       "      <th>1</th>\n",
       "      <td>LP001003</td>\n",
       "      <td>Male</td>\n",
       "      <td>Yes</td>\n",
       "      <td>1</td>\n",
       "      <td>Graduate</td>\n",
       "      <td>No</td>\n",
       "      <td>4583</td>\n",
       "      <td>1508.0</td>\n",
       "      <td>128.0</td>\n",
       "      <td>360.0</td>\n",
       "      <td>1.0</td>\n",
       "      <td>Rural</td>\n",
       "      <td>N</td>\n",
       "    </tr>\n",
       "    <tr>\n",
       "      <th>2</th>\n",
       "      <td>LP001005</td>\n",
       "      <td>Male</td>\n",
       "      <td>Yes</td>\n",
       "      <td>0</td>\n",
       "      <td>Graduate</td>\n",
       "      <td>Yes</td>\n",
       "      <td>3000</td>\n",
       "      <td>0.0</td>\n",
       "      <td>66.0</td>\n",
       "      <td>360.0</td>\n",
       "      <td>1.0</td>\n",
       "      <td>Urban</td>\n",
       "      <td>Y</td>\n",
       "    </tr>\n",
       "    <tr>\n",
       "      <th>3</th>\n",
       "      <td>LP001006</td>\n",
       "      <td>Male</td>\n",
       "      <td>Yes</td>\n",
       "      <td>0</td>\n",
       "      <td>Not Graduate</td>\n",
       "      <td>No</td>\n",
       "      <td>2583</td>\n",
       "      <td>2358.0</td>\n",
       "      <td>120.0</td>\n",
       "      <td>360.0</td>\n",
       "      <td>1.0</td>\n",
       "      <td>Urban</td>\n",
       "      <td>Y</td>\n",
       "    </tr>\n",
       "    <tr>\n",
       "      <th>4</th>\n",
       "      <td>LP001008</td>\n",
       "      <td>Male</td>\n",
       "      <td>No</td>\n",
       "      <td>0</td>\n",
       "      <td>Graduate</td>\n",
       "      <td>No</td>\n",
       "      <td>6000</td>\n",
       "      <td>0.0</td>\n",
       "      <td>141.0</td>\n",
       "      <td>360.0</td>\n",
       "      <td>1.0</td>\n",
       "      <td>Urban</td>\n",
       "      <td>Y</td>\n",
       "    </tr>\n",
       "  </tbody>\n",
       "</table>\n",
       "</div>"
      ],
      "text/plain": [
       "    Loan_ID Gender Married Dependents     Education Self_Employed  \\\n",
       "0  LP001002   Male      No          0      Graduate            No   \n",
       "1  LP001003   Male     Yes          1      Graduate            No   \n",
       "2  LP001005   Male     Yes          0      Graduate           Yes   \n",
       "3  LP001006   Male     Yes          0  Not Graduate            No   \n",
       "4  LP001008   Male      No          0      Graduate            No   \n",
       "\n",
       "   ApplicantIncome  CoapplicantIncome  LoanAmount  Loan_Amount_Term  \\\n",
       "0             5849                0.0         NaN             360.0   \n",
       "1             4583             1508.0       128.0             360.0   \n",
       "2             3000                0.0        66.0             360.0   \n",
       "3             2583             2358.0       120.0             360.0   \n",
       "4             6000                0.0       141.0             360.0   \n",
       "\n",
       "   Credit_History Property_Area Loan_Status  \n",
       "0             1.0         Urban           Y  \n",
       "1             1.0         Rural           N  \n",
       "2             1.0         Urban           Y  \n",
       "3             1.0         Urban           Y  \n",
       "4             1.0         Urban           Y  "
      ]
     },
     "execution_count": 4,
     "metadata": {},
     "output_type": "execute_result"
    }
   ],
   "source": [
    "# take a look at the top 5 rows of the train set, notice the column \"Loan_Status\"\n",
    "train.head()"
   ]
  },
  {
   "cell_type": "code",
   "execution_count": 5,
   "metadata": {},
   "outputs": [
    {
     "data": {
      "text/html": [
       "<div>\n",
       "<style scoped>\n",
       "    .dataframe tbody tr th:only-of-type {\n",
       "        vertical-align: middle;\n",
       "    }\n",
       "\n",
       "    .dataframe tbody tr th {\n",
       "        vertical-align: top;\n",
       "    }\n",
       "\n",
       "    .dataframe thead th {\n",
       "        text-align: right;\n",
       "    }\n",
       "</style>\n",
       "<table border=\"1\" class=\"dataframe\">\n",
       "  <thead>\n",
       "    <tr style=\"text-align: right;\">\n",
       "      <th></th>\n",
       "      <th>Loan_ID</th>\n",
       "      <th>Gender</th>\n",
       "      <th>Married</th>\n",
       "      <th>Dependents</th>\n",
       "      <th>Education</th>\n",
       "      <th>Self_Employed</th>\n",
       "      <th>ApplicantIncome</th>\n",
       "      <th>CoapplicantIncome</th>\n",
       "      <th>LoanAmount</th>\n",
       "      <th>Loan_Amount_Term</th>\n",
       "      <th>Credit_History</th>\n",
       "      <th>Property_Area</th>\n",
       "    </tr>\n",
       "  </thead>\n",
       "  <tbody>\n",
       "    <tr>\n",
       "      <th>0</th>\n",
       "      <td>LP001015</td>\n",
       "      <td>Male</td>\n",
       "      <td>Yes</td>\n",
       "      <td>0</td>\n",
       "      <td>Graduate</td>\n",
       "      <td>No</td>\n",
       "      <td>5720</td>\n",
       "      <td>0</td>\n",
       "      <td>110.0</td>\n",
       "      <td>360.0</td>\n",
       "      <td>1.0</td>\n",
       "      <td>Urban</td>\n",
       "    </tr>\n",
       "    <tr>\n",
       "      <th>1</th>\n",
       "      <td>LP001022</td>\n",
       "      <td>Male</td>\n",
       "      <td>Yes</td>\n",
       "      <td>1</td>\n",
       "      <td>Graduate</td>\n",
       "      <td>No</td>\n",
       "      <td>3076</td>\n",
       "      <td>1500</td>\n",
       "      <td>126.0</td>\n",
       "      <td>360.0</td>\n",
       "      <td>1.0</td>\n",
       "      <td>Urban</td>\n",
       "    </tr>\n",
       "    <tr>\n",
       "      <th>2</th>\n",
       "      <td>LP001031</td>\n",
       "      <td>Male</td>\n",
       "      <td>Yes</td>\n",
       "      <td>2</td>\n",
       "      <td>Graduate</td>\n",
       "      <td>No</td>\n",
       "      <td>5000</td>\n",
       "      <td>1800</td>\n",
       "      <td>208.0</td>\n",
       "      <td>360.0</td>\n",
       "      <td>1.0</td>\n",
       "      <td>Urban</td>\n",
       "    </tr>\n",
       "    <tr>\n",
       "      <th>3</th>\n",
       "      <td>LP001035</td>\n",
       "      <td>Male</td>\n",
       "      <td>Yes</td>\n",
       "      <td>2</td>\n",
       "      <td>Graduate</td>\n",
       "      <td>No</td>\n",
       "      <td>2340</td>\n",
       "      <td>2546</td>\n",
       "      <td>100.0</td>\n",
       "      <td>360.0</td>\n",
       "      <td>NaN</td>\n",
       "      <td>Urban</td>\n",
       "    </tr>\n",
       "    <tr>\n",
       "      <th>4</th>\n",
       "      <td>LP001051</td>\n",
       "      <td>Male</td>\n",
       "      <td>No</td>\n",
       "      <td>0</td>\n",
       "      <td>Not Graduate</td>\n",
       "      <td>No</td>\n",
       "      <td>3276</td>\n",
       "      <td>0</td>\n",
       "      <td>78.0</td>\n",
       "      <td>360.0</td>\n",
       "      <td>1.0</td>\n",
       "      <td>Urban</td>\n",
       "    </tr>\n",
       "  </tbody>\n",
       "</table>\n",
       "</div>"
      ],
      "text/plain": [
       "    Loan_ID Gender Married Dependents     Education Self_Employed  \\\n",
       "0  LP001015   Male     Yes          0      Graduate            No   \n",
       "1  LP001022   Male     Yes          1      Graduate            No   \n",
       "2  LP001031   Male     Yes          2      Graduate            No   \n",
       "3  LP001035   Male     Yes          2      Graduate            No   \n",
       "4  LP001051   Male      No          0  Not Graduate            No   \n",
       "\n",
       "   ApplicantIncome  CoapplicantIncome  LoanAmount  Loan_Amount_Term  \\\n",
       "0             5720                  0       110.0             360.0   \n",
       "1             3076               1500       126.0             360.0   \n",
       "2             5000               1800       208.0             360.0   \n",
       "3             2340               2546       100.0             360.0   \n",
       "4             3276                  0        78.0             360.0   \n",
       "\n",
       "   Credit_History Property_Area  \n",
       "0             1.0         Urban  \n",
       "1             1.0         Urban  \n",
       "2             1.0         Urban  \n",
       "3             NaN         Urban  \n",
       "4             1.0         Urban  "
      ]
     },
     "execution_count": 5,
     "metadata": {},
     "output_type": "execute_result"
    }
   ],
   "source": [
    "# take a look at the top 5 rows of the test set, notice the absense of \"Loan_Status\" that we will predict\n",
    "test.head()"
   ]
  },
  {
   "cell_type": "code",
   "execution_count": 6,
   "metadata": {},
   "outputs": [
    {
     "data": {
      "text/plain": [
       "((614, 13), (367, 12))"
      ]
     },
     "execution_count": 6,
     "metadata": {},
     "output_type": "execute_result"
    }
   ],
   "source": [
    "# show the shape of the dataset i.e. no of rows, no of columns\n",
    "train.shape, test.shape"
   ]
  },
  {
   "cell_type": "code",
   "execution_count": 7,
   "metadata": {},
   "outputs": [
    {
     "data": {
      "text/plain": [
       "(0.6258919469928644, 0.37410805300713557)"
      ]
     },
     "execution_count": 7,
     "metadata": {},
     "output_type": "execute_result"
    }
   ],
   "source": [
    "# calculate train-test-split ratio\n",
    "train.shape[0]/(train.shape[0]+test.shape[0]), test.shape[0]/(train.shape[0]+test.shape[0])"
   ]
  },
  {
   "cell_type": "code",
   "execution_count": 8,
   "metadata": {},
   "outputs": [
    {
     "data": {
      "text/plain": [
       "(Index(['Loan_ID', 'Gender', 'Married', 'Dependents', 'Education',\n",
       "        'Self_Employed', 'ApplicantIncome', 'CoapplicantIncome', 'LoanAmount',\n",
       "        'Loan_Amount_Term', 'Credit_History', 'Property_Area', 'Loan_Status'],\n",
       "       dtype='object'),\n",
       " Index(['Loan_ID', 'Gender', 'Married', 'Dependents', 'Education',\n",
       "        'Self_Employed', 'ApplicantIncome', 'CoapplicantIncome', 'LoanAmount',\n",
       "        'Loan_Amount_Term', 'Credit_History', 'Property_Area'],\n",
       "       dtype='object'))"
      ]
     },
     "execution_count": 8,
     "metadata": {},
     "output_type": "execute_result"
    }
   ],
   "source": [
    "# take a look at the features (i.e. independent variables) in the dataset\n",
    "train.columns, test.columns"
   ]
  },
  {
   "cell_type": "markdown",
   "metadata": {},
   "source": [
    "**Note: ** There are 13 columns of features and 614 rows of records in the train set and 12 columns of features and 367 rows of records in the test set. There are a total of 981 records combining both train and test set, representing a train-test-split of approx 63% and 37%. The features are similar in the test set as the train data except the Loan_Status. We will predict the Loan_Status using the model built using the train data."
   ]
  },
  {
   "cell_type": "code",
   "execution_count": 9,
   "metadata": {},
   "outputs": [
    {
     "data": {
      "text/plain": [
       "Loan_ID               object\n",
       "Gender                object\n",
       "Married               object\n",
       "Dependents            object\n",
       "Education             object\n",
       "Self_Employed         object\n",
       "ApplicantIncome        int64\n",
       "CoapplicantIncome    float64\n",
       "LoanAmount           float64\n",
       "Loan_Amount_Term     float64\n",
       "Credit_History       float64\n",
       "Property_Area         object\n",
       "Loan_Status           object\n",
       "dtype: object"
      ]
     },
     "execution_count": 9,
     "metadata": {},
     "output_type": "execute_result"
    }
   ],
   "source": [
    "# show the data types for each column of the train set\n",
    "train.dtypes"
   ]
  },
  {
   "cell_type": "code",
   "execution_count": 10,
   "metadata": {},
   "outputs": [
    {
     "name": "stdout",
     "output_type": "stream",
     "text": [
      "<class 'pandas.core.frame.DataFrame'>\n",
      "RangeIndex: 614 entries, 0 to 613\n",
      "Data columns (total 13 columns):\n",
      "Loan_ID              614 non-null object\n",
      "Gender               601 non-null object\n",
      "Married              611 non-null object\n",
      "Dependents           599 non-null object\n",
      "Education            614 non-null object\n",
      "Self_Employed        582 non-null object\n",
      "ApplicantIncome      614 non-null int64\n",
      "CoapplicantIncome    614 non-null float64\n",
      "LoanAmount           592 non-null float64\n",
      "Loan_Amount_Term     600 non-null float64\n",
      "Credit_History       564 non-null float64\n",
      "Property_Area        614 non-null object\n",
      "Loan_Status          614 non-null object\n",
      "dtypes: float64(4), int64(1), object(8)\n",
      "memory usage: 62.4+ KB\n"
     ]
    }
   ],
   "source": [
    "# concise summary of the dataset, info about index dtype, column dtypes, non-null values and memory usage\n",
    "train.info()"
   ]
  },
  {
   "cell_type": "markdown",
   "metadata": {},
   "source": [
    "**Note: ** There are 3 data types in the data\n",
    "- object: Object format means variables are categorical. Categorical variables in our dataset are: Loan_ID, Gender, Married, Dependents, Education, Self_Employed, Property_Area, Loan_Status\n",
    "- int64: It represents the integer variables. ApplicantIncome is of this format.\n",
    "- float64: It represents the variable which have some decimal values involved. They are also numerical variables. Numerical variables in our dataset are: CoapplicantIncome, LoanAmount, Loan_Amount_Term, and Credit_History\n",
    "\n",
    "**Why Data Types are important?**\n",
    "\n",
    "Datatypes are an important concept because statistical methods can only be used with certain data types. You have to analyze continuous data differently than categorical data otherwise it would result in a wrong analysis. Therefore knowing the types of data you are dealing with, enables you to choose the correct method of analysis."
   ]
  },
  {
   "cell_type": "markdown",
   "metadata": {},
   "source": [
    "## Univariate analysis\n",
    "Univariate analysis is when we analyze each variable individually. For categorical features we can use frequency table or bar plots which will calculate the number of each category in a particular variable. For numerical features, a histogram or a box-plot can be used to look at the distribution of the variable. With a histogram, you can check the central tendency, variability, modality, and kurtosis of a distribution. Note that a histogram can’t show you if you have any outliers. This is why we also use box-plots.\n",
    "\n",
    "### Target Variable (Categorical)\n",
    "We will first look at the target variable, i.e., Loan_Status. As it is a categorical variable, let us look at its frequency table, percentage distribution and bar plot."
   ]
  },
  {
   "cell_type": "code",
   "execution_count": 11,
   "metadata": {},
   "outputs": [
    {
     "data": {
      "text/plain": [
       "Y    422\n",
       "N    192\n",
       "Name: Loan_Status, dtype: int64"
      ]
     },
     "execution_count": 11,
     "metadata": {},
     "output_type": "execute_result"
    }
   ],
   "source": [
    "# frequency table of a variable will give us the count of each category in that variable\n",
    "train['Loan_Status'].value_counts()"
   ]
  },
  {
   "cell_type": "code",
   "execution_count": 12,
   "metadata": {},
   "outputs": [
    {
     "data": {
      "text/plain": [
       "Y    0.687296\n",
       "N    0.312704\n",
       "Name: Loan_Status, dtype: float64"
      ]
     },
     "execution_count": 12,
     "metadata": {},
     "output_type": "execute_result"
    }
   ],
   "source": [
    "# percentage distribution can be calculated by setting the normalize=True to show proportions instead of number \n",
    "train['Loan_Status'].value_counts(normalize=True)"
   ]
  },
  {
   "cell_type": "code",
   "execution_count": 13,
   "metadata": {},
   "outputs": [
    {
     "data": {
      "text/plain": [
       "<matplotlib.axes._subplots.AxesSubplot at 0x28004add5f8>"
      ]
     },
     "execution_count": 13,
     "metadata": {},
     "output_type": "execute_result"
    },
    {
     "data": {
      "image/png": "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",
      "text/plain": [
       "<Figure size 432x288 with 1 Axes>"
      ]
     },
     "metadata": {},
     "output_type": "display_data"
    }
   ],
   "source": [
    "# bar plot to visualize the frequency\n",
    "train['Loan_Status'].value_counts().plot.bar()"
   ]
  },
  {
   "cell_type": "markdown",
   "metadata": {},
   "source": [
    "**Note: ** The loan of 422 (around 69%) people out of 614 was approved. There is no imbalanced classes issue in this dataset, thus accuracy as an evaluation metric should be appropriate. On the other hand, if there are imbalanced or skewed classes, then we might need to use precision and recall as evaluation metrics."
   ]
  },
  {
   "cell_type": "markdown",
   "metadata": {},
   "source": [
    "### Independent Variable (Categorical)\n",
    "There are 5 features that are categorical or binary (Gender, Married, Self_Employed, Credit_History, Education)"
   ]
  },
  {
   "cell_type": "code",
   "execution_count": 14,
   "metadata": {},
   "outputs": [
    {
     "data": {
      "image/png": "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",
      "text/plain": [
       "<Figure size 1440x720 with 5 Axes>"
      ]
     },
     "metadata": {},
     "output_type": "display_data"
    }
   ],
   "source": [
    "# Visualizing categorical features\n",
    "# plt.figure(1)\n",
    "plt.subplot(231)\n",
    "train['Gender'].value_counts(normalize=True).plot.bar(figsize=(20,10), title= 'Gender')\n",
    "\n",
    "plt.subplot(232)\n",
    "train['Married'].value_counts(normalize=True).plot.bar(title= 'Married')\n",
    "\n",
    "plt.subplot(233)\n",
    "train['Self_Employed'].value_counts(normalize=True).plot.bar(title= 'Self_Employed')\n",
    "\n",
    "plt.subplot(234)\n",
    "train['Credit_History'].value_counts(normalize=True).plot.bar(title= 'Credit_History')\n",
    "\n",
    "plt.subplot(235)\n",
    "train['Education'].value_counts(normalize=True).plot.bar(title= 'Education')\n",
    "\n",
    "plt.show()"
   ]
  },
  {
   "cell_type": "markdown",
   "metadata": {},
   "source": [
    "It can be inferred from the above bar plots that:\n",
    "\n",
    "- 80% applicants in the dataset are male.\n",
    "- Around 65% of the applicants in the dataset are married.\n",
    "- Around 15% applicants in the dataset are self employed.\n",
    "- Around 85% applicants have credit history (repaid their debts).\n",
    "- Around 80% of the applicants are Graduate.\n"
   ]
  },
  {
   "cell_type": "markdown",
   "metadata": {},
   "source": [
    "### Independent Variable (Ordinal)\n",
    "There are 2 features that are Ordinal: Variables in categorical features having some order involved (Dependents, Property_Area)"
   ]
  },
  {
   "cell_type": "code",
   "execution_count": 15,
   "metadata": {},
   "outputs": [
    {
     "data": {
      "image/png": "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",
      "text/plain": [
       "<Figure size 864x288 with 2 Axes>"
      ]
     },
     "metadata": {},
     "output_type": "display_data"
    }
   ],
   "source": [
    "# Visualizing remaining categorical features\n",
    "# plt.figure(1)\n",
    "plt.subplot(121)\n",
    "train['Dependents'].value_counts(normalize=True).plot.bar(figsize=(12,4), title= 'Dependents')\n",
    "\n",
    "plt.subplot(122)\n",
    "train['Property_Area'].value_counts(normalize=True).plot.bar(title= 'Property_Area')\n",
    "\n",
    "plt.show()"
   ]
  },
  {
   "cell_type": "markdown",
   "metadata": {},
   "source": [
    "Following inferences can be made from the above bar plots:\n",
    "\n",
    "- More than half of the applicants don’t have any dependents.\n",
    "- Most of the applicants are from Semiurban area.\n"
   ]
  },
  {
   "cell_type": "markdown",
   "metadata": {},
   "source": [
    "### Independent Variable (Numerical)\n",
    "There are 4 features that are Numerical: These features have numerical values (ApplicantIncome, CoapplicantIncome, LoanAmount, Loan_Amount_Term)\n",
    "\n",
    "Firstly, let’s look at the Applicant income distribution:"
   ]
  },
  {
   "cell_type": "code",
   "execution_count": 16,
   "metadata": {},
   "outputs": [
    {
     "data": {
      "image/png": "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",
      "text/plain": [
       "<Figure size 1152x360 with 2 Axes>"
      ]
     },
     "metadata": {},
     "output_type": "display_data"
    }
   ],
   "source": [
    "# Visualizing ApplicantIncome\n",
    "# plt.figure(1)\n",
    "plt.subplot(121)\n",
    "sns.distplot(train['ApplicantIncome']);\n",
    "\n",
    "plt.subplot(122)\n",
    "train['ApplicantIncome'].plot.box(figsize=(16,5))\n",
    "\n",
    "plt.show()"
   ]
  },
  {
   "cell_type": "markdown",
   "metadata": {},
   "source": [
    "It can be inferred that most of the data in the distribution of applicant income is towards left which means it is not normally distributed. The distribution is right-skewed (positive skewness). We will try to make it normal in later sections as algorithms works better if the data is normally distributed.\n",
    "\n",
    "The boxplot confirms the presence of a lot of outliers/extreme values. This can be attributed to the income disparity in the society. Part of this can be driven by the fact that we are looking at people with different education levels. Let us segregate them by Education:"
   ]
  },
  {
   "cell_type": "code",
   "execution_count": 17,
   "metadata": {},
   "outputs": [
    {
     "data": {
      "text/plain": [
       "Text(0.5,0.98,'')"
      ]
     },
     "execution_count": 17,
     "metadata": {},
     "output_type": "execute_result"
    },
    {
     "data": {
      "image/png": "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",
      "text/plain": [
       "<Figure size 432x288 with 1 Axes>"
      ]
     },
     "metadata": {},
     "output_type": "display_data"
    }
   ],
   "source": [
    "train.boxplot(column='ApplicantIncome', by = 'Education')\n",
    "plt.suptitle(\"\")"
   ]
  },
  {
   "cell_type": "markdown",
   "metadata": {},
   "source": [
    "We can see that there are a higher number of graduates with very high incomes, which are appearing to be the outliers."
   ]
  },
  {
   "cell_type": "markdown",
   "metadata": {},
   "source": [
    "Secondly, Let’s look at the Coapplicant income distribution."
   ]
  },
  {
   "cell_type": "code",
   "execution_count": 18,
   "metadata": {},
   "outputs": [
    {
     "data": {
      "image/png": "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",
      "text/plain": [
       "<Figure size 1152x360 with 2 Axes>"
      ]
     },
     "metadata": {},
     "output_type": "display_data"
    }
   ],
   "source": [
    "# plt.figure(1)\n",
    "plt.subplot(121)\n",
    "sns.distplot(train['CoapplicantIncome']);\n",
    "\n",
    "plt.subplot(122)\n",
    "train['CoapplicantIncome'].plot.box(figsize=(16,5))\n",
    "\n",
    "plt.show()"
   ]
  },
  {
   "cell_type": "markdown",
   "metadata": {},
   "source": [
    "We see a similar distribution as that of the applicant income. Majority of coapplicant’s income ranges from 0 to 5000. We also see a lot of outliers in the coapplicant income and it is not normally distributed.\n",
    "\n",
    "Thirdly, let’s look at the distribution of LoanAmount variable."
   ]
  },
  {
   "cell_type": "code",
   "execution_count": 19,
   "metadata": {},
   "outputs": [
    {
     "data": {
      "image/png": "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",
      "text/plain": [
       "<Figure size 1152x360 with 2 Axes>"
      ]
     },
     "metadata": {},
     "output_type": "display_data"
    }
   ],
   "source": [
    "# plt.figure(1)\n",
    "plt.subplot(121)\n",
    "df=train.dropna()\n",
    "sns.distplot(df['LoanAmount']);\n",
    "\n",
    "plt.subplot(122)\n",
    "train['LoanAmount'].plot.box(figsize=(16,5))\n",
    "\n",
    "plt.show()"
   ]
  },
  {
   "cell_type": "markdown",
   "metadata": {},
   "source": [
    "We see a fairly normal distribution (albeit still slightly right-skewed) for LoanAmount but there are lot of outliers in this variable. We will treat the outliers in later sections.\n",
    "\n",
    "Lastly, let’s look at the distribution of Loan_Amount_Term variable. Since Loan_Amount_Term is a discrete variable, we will use frequency table and bar plots which will calculate the number of each category."
   ]
  },
  {
   "cell_type": "code",
   "execution_count": 20,
   "metadata": {},
   "outputs": [
    {
     "data": {
      "text/plain": [
       "360.0    512\n",
       "180.0     44\n",
       "480.0     15\n",
       "300.0     13\n",
       "84.0       4\n",
       "240.0      4\n",
       "120.0      3\n",
       "36.0       2\n",
       "60.0       2\n",
       "12.0       1\n",
       "Name: Loan_Amount_Term, dtype: int64"
      ]
     },
     "execution_count": 20,
     "metadata": {},
     "output_type": "execute_result"
    }
   ],
   "source": [
    "# frequency table of a variable will give us the count of each category in that variable\n",
    "train['Loan_Amount_Term'].value_counts()"
   ]
  },
  {
   "cell_type": "code",
   "execution_count": 21,
   "metadata": {},
   "outputs": [
    {
     "data": {
      "text/plain": [
       "<matplotlib.axes._subplots.AxesSubplot at 0x28005043cf8>"
      ]
     },
     "execution_count": 21,
     "metadata": {},
     "output_type": "execute_result"
    },
    {
     "data": {
      "image/png": "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",
      "text/plain": [
       "<Figure size 432x288 with 1 Axes>"
      ]
     },
     "metadata": {},
     "output_type": "display_data"
    }
   ],
   "source": [
    "# plot bar chart\n",
    "train['Loan_Amount_Term'].value_counts(normalize=True).plot.bar(title= 'Loan_Amount_Term')"
   ]
  },
  {
   "cell_type": "markdown",
   "metadata": {},
   "source": [
    "It can be inferred from the above bar plot that:\n",
    "\n",
    "- Around 85% of the loans are 360 months term or 30 years period\n",
    "\n",
    "\n",
    "Now we would like to know how well each feature correlate with Loan Status. So, in the next section we will look at bivariate analysis."
   ]
  },
  {
   "cell_type": "markdown",
   "metadata": {},
   "source": [
    "## Bivariate Analysis\n",
    "After looking at every variable individually in univariate analysis, we will now explore them again with respect to the target variable in bivariate analysis. We can use bivariate analysis to test the hypotheses that we generated earlier.\n",
    "\n"
   ]
  },
  {
   "cell_type": "markdown",
   "metadata": {},
   "source": [
    "**Categorical Independent Variable vs Target Variable**\n",
    "\n",
    "First of all we will find the relation between target variable and categorical independent variables. Let us look at the stacked bar plot now which will give us the proportion of approved and unapproved loans. For example, we want to see whether an applicant's gender will have any effect on approval chances."
   ]
  },
  {
   "cell_type": "code",
   "execution_count": 22,
   "metadata": {},
   "outputs": [
    {
     "name": "stdout",
     "output_type": "stream",
     "text": [
      "Loan_Status    N    Y\n",
      "Gender               \n",
      "Female        37   75\n",
      "Male         150  339\n"
     ]
    },
    {
     "data": {
      "image/png": "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",
      "text/plain": [
       "<Figure size 288x288 with 1 Axes>"
      ]
     },
     "metadata": {},
     "output_type": "display_data"
    }
   ],
   "source": [
    "print(pd.crosstab(train['Gender'],train['Loan_Status']))\n",
    "\n",
    "Gender = pd.crosstab(train['Gender'],train['Loan_Status'])\n",
    "Gender.div(Gender.sum(1).astype(float), axis = 0).plot(kind=\"bar\", stacked=True, figsize=(4,4))\n",
    "plt.xlabel('Gender')\n",
    "p = plt.ylabel('Percentage')"
   ]
  },
  {
   "cell_type": "code",
   "execution_count": 23,
   "metadata": {},
   "outputs": [
    {
     "name": "stdout",
     "output_type": "stream",
     "text": [
      "Loan_Status    N    Y\n",
      "Married              \n",
      "No            79  134\n",
      "Yes          113  285\n"
     ]
    },
    {
     "data": {
      "image/png": "iVBORw0KGgoAAAANSUhEUgAAARUAAAERCAYAAABVfzP0AAAABHNCSVQICAgIfAhkiAAAAAlwSFlzAAALEgAACxIB0t1+/AAAADl0RVh0U29mdHdhcmUAbWF0cGxvdGxpYiB2ZXJzaW9uIDIuMi4yLCBodHRwOi8vbWF0cGxvdGxpYi5vcmcvhp/UCwAAF3xJREFUeJzt3XuUVeWd5vHvI8gl3AwXL1AomBBboFFJDbZi27JQI+2txyhgYhg6rpR3k8HYmsEoISatqFFp6SAKCbqMBozOFBkUI02MGTVSeMEIcUmIkQouLFFRQBT0N3+cU3gsqqhT8O46deD5rFXLs/d+965fFfD4vnu/5z2KCMzMUtmn1AWY2Z7FoWJmSTlUzCwph4qZJeVQMbOkHCpmlpRDxcyScqiYWVIOFTNLqn2pC2ip3r17x4ABA0pdhtleZ9myZW9FRJ/m2pVdqAwYMICamppSl2G215H012LaefhjZkk5VMwsKYeKmSVVdvdUzLKwdetWamtr2bJlS6lLKblOnTpRUVHBvvvuu0vnO1TMgNraWrp168aAAQOQVOpySiYiWL9+PbW1tQwcOHCXrpHZ8EfSHElvSvpjE8clabqkVZKWSxqeVS1mzdmyZQu9evXaqwMFQBK9evXarR5blvdUfg6cspPjY4BB+a8q4KcZ1mLWrL09UOrt7u8hs1CJiN8Bb++kyZnAPZHzDLCfpIOyqsfMWkcp76n0A9YUbNfm973RsKGkKnK9GQ4++OBWKW67KT1a9/u1tikbSl1Btor98/vKPFhbZjdp+x5V6goaVcpHyo31sRpdhTsiZkVEZURU9unT7CxhsyS6DhrZ6t/zR7ffzZBRZzPsxLEcedJ4/vDcSwDcdtd9bP7gg2bPv+2229i8eXPWZe5UKUOlFuhfsF0BrC1RLWYl93TNi/z68Sd57tFfsPzxeTz+y5/Sv++BANx29y/Y/EHzPam9PVSqgQn5p0D/AGyIiB2GPmZtyV9r1zJ67AUMO3Eso8dewOt/y/2VXfDYExx92gSOOvlcThx3Ievq1gMw5ZaZfHPSFE44+1sceszpTJ99f5PXfuPNt+jdcz86duwAQO+en6fvgX2YPvt+1q6rY9Q5FzDq7CoALrr6x1RWVjJkyBCuu+46AKZPn87atWsZNWoUo0aNAqBr167br//ggw8yceJEAObPn8/QoUM54ogjOP7445P+jrJ8pHw/8DRwmKRaSedLulDShfkmC4HVwCrgLuDirGoxS+XSyTcy4ezTWP74PL5+1hgu//5NABw34iieWTCX5x+7n/FnfoVp/zl3+zl/WvUai+6bwbP/9x5+8JNZbN26tdFrn/xPx7Bm7Tq+dNy/cPH3/p0nnl4GwOXnn0vfA/qwZP6dLHlwFgA/uuoSampqWL58OU888QTLly/n8ssvp2/fvixZsoQlS5bs9OeYOnUqixYt4sUXX6S6ujrFr2a7zG7URsS5zRwP4JKsvr9ZFp5e9hIP3X0zAN/46qn82/XTAah9Yx3jLrqaN958i48+2srAg/tuP+fU0cfRsWMHOnbswP69P8+6urep6HvADtfu2uVzLHv0Pp78w/MseWop4y66mhu+dxkTx52xQ9t5C37DrG9MYtu2bbzxxhusWLGCYcOGFf1zjBw5kokTJzJ27FjOOuuslv4adsrv/THbDfVTOi77/jQu/ddxvLR4HnfeOJktH360vU39cAagXbt2bPv44yav165dO044tpIffPci7rj+Kn61cPEObf7y+t+4+c57WLx4McuXL+fUU09tcrJa4ZyTwjYzZ87k+uuvZ82aNRx55JGsX7++6J+5OQ4VsxY4tnIYD/yfRQDc99AjHDci91h3w3sb6Xdg7snk3PkLdunar6x6jVdXv759+4WXX+GQitzUrW5du/D+xtwN2Pfe30SXzp3p0aMH69at45FHHtl+Trdu3Xj//fe3bx9wwAGsXLmSTz75hIcffnj7/j//+c8cffTRTJ06ld69e7NmTeHsjt3j9/6YNWHzB1uo+PKnk8InVZ3H9B/+G9+cNIWbZt5Dn56f52e3TgFgyhUXcM4FV9HvwD78w/C/5y9rWv4gc+PmzVx2zTTefe992rdvxxcH9GfWtGsAqPr6WYw57zIO2r83Sx6cxVFD/44hQ4Zw6KGHMnLkp4++q6qqGDNmDAcddBBLlizhhhtu4LTTTqN///4MHTqUjRs3AnDllVfy6quvEhGMHj2aI444Yjd+U5+lcvuA9srKymjVld88+a28Ffnnt/Ir8zj8kP0zLiaxDCe/rVy5ksMPP/wz+yQti4jK5s718MfMkvLwx6yVrX/7XUaPu3CH/Yt/OZNePfcrQUVpOVTMWlmvnvvxwm8eKHUZmfHwx8yScqiYWVIOFTNLyvdUzBIYMD3tG+xfu7xvs20kMWnSJG655RYAbr75ZjZu3MiUKVOS1tJS7qmYlamOHTvy0EMP8dZbb5W6lM9wqJiVqfbt21NVVcWtt95a6lI+w6FiVsYuueQS7rvvPjZsaDszox0qZmWse/fuTJgwgenTp5e6lO0cKmZl7jvf+Q6zZ89m06ZNpS4FcKiYlb2ePXsyduxYZs+eXepSAD9SNkuimEfAWbriiiu44447SlpDPYeKWZmqXxsFcosxlXoV/Xoe/phZUg4VM0vKoWJmSTlUzCwph4qZJeVQMbOk/EjZLIVZJ6S9XtVvd3o4IvjH445j8uTJjBkzBoB58+YxZ84cHn300bS1tJBDxawMSWLmzJmcc845jBo1io8//pjJkyeXPFDAoWJWtoYOHcrpp5/OjTfeyKZNm5gwYQJf+MIXSl2WQ8WsnF133XUMHz6cDh060KofsrcTDhWzMtalSxfGjRtH165d6dixY6nLAfz0x6zs7bPPPuyzT9v5p9x2KjGzPUKmwx9JpwC3A+2AuyPihgbHDwbmAvvl21wdEQuzrMksE1W/LXUFbUZmoSKpHTADOAmoBZZKqo6IFQXNrgHmRcRPJQ0GFgIDsqrJbE9U6o/kaCjL4c8IYFVErI6Ij4AHgDMbtAmge/51DyDth6eYWavLcvjTD1hTsF0LHN2gzRTgMUmXAV2AEzOsx8xaQZY9FTWyLxpsnwv8PCIqgH8G7pW0Q02SqiTVSKqpq6vLoFSzIKLhX8+90+7+HrIMlVqgf8F2BTsOb84H5gFExNNAJ6B3wwtFxKyIqIyIyj59+mRUru3NOm1YzfpN2/b6YIkI1q9fT6dOnXb5GlkOf5YCgyQNBP4GjAe+1qDN68Bo4OeSDicXKu6KWKureO5GarmKuh6H0ngnuw3asDKTy3bq1ImKiopdPj+zUImIbZIuBRaRe1w8JyJeljQVqImIauAK4C5J/5Pc0Ghi7O3/q7CS2Pejdxn4zPdKXUbLTGk7n0pYKNN5Kvk5Jwsb7Lu24PUKYGSWNZhZ6/KMWjNLyqFiZkk5VMwsKYeKmSXlUDGzpBwqZpaUQ8XMknKomFlSDhUzS8qhYmZJOVTMLCmHipkl5VAxs6QcKmaWlEPFzJJyqJhZUg4VM0vKoWJmSTlUzCwph4qZJeVQMbOkHCpmlpRDxcyScqiYWVIOFTNLyqFiZkkVHSqSOks6LMtizKz8FRUqkk4HXgAezW8fKak6y8LMrDwV21OZAowA3gWIiBeAAdmUZGblrNhQ2RYRGzKtxMz2CO2LbPdHSV8D2kkaBFwOPJVdWWZWrortqVwGDAE+BO4H3gO+k1VRZla+iuqpRMRmYHL+y8ysSUWFiqQFQDTYvQGoAe6MiC1NnHcKcDvQDrg7Im5opM1YcjeCA3gxIr5WdPVm1uYUe09lNdCH3NAHYBywDvgScBfwjYYnSGoHzABOAmqBpZKqI2JFQZtBwPeAkRHxjqT9d/UHMbO2odhQOSoiji/YXiDpdxFxvKSXmzhnBLAqIlYDSHoAOBNYUdDmW8CMiHgHICLebFn5ZtbWFHujto+kg+s38q975zc/auKcfsCagu3a/L5CXwK+JOn/SXomP1zagaQqSTWSaurq6oos2cxKodieyhXA7yX9GRAwELhYUhdgbhPnqJF9De/LtAcGAScAFcCTkoZGxLufOSliFjALoLKysuE1zKwNKfbpz8L8/Y+/IxcWfyq4OXtbE6fVAv0LtiuAtY20eSYitgJ/kfQKuZBZWmT9ZtbGtORdyoOAw4BhwFhJE5ppvxQYJGmgpA7AeKDh+4X+NzAKQFJvcsOh1S2oyczamGIfKV9HbogyGFgIjAF+D9zT1DkRsU3SpcAico+U50TEy5KmAjURUZ0/drKkFcDHwJURsX43fh4zK7Fi76mcDRwBPB8R/yrpAODu5k6KiIXkQqhw37UFrwOYlP8ysz1AscOfDyLiE2CbpO7Am8Ch2ZVlZuWq2J5KjaT9yE10WwZsBJ7NrCozK1vFPv25OP9ypqRHge4RsTy7ssysXBW78tvi+tcR8VpELC/cZ2ZWb6c9FUmdgM8BvSV9nk8ntHUH+mZcm5mVoeaGPxeQWzelL7l7KfWh8h65NwuamX3GTkMlIm4Hbpd0WUT8RyvVZGZlrNgbtf8h6Vhyi123L9jf5OQ3M9s7FTuj9l7gC+Q+puPj/O5gJzNqzWzvVOw8lUpgcH4GrJlZk4qdUftH4MAsCzGzPUOxPZXewApJz5JbUR+AiDgjk6rMrGwVGypTsizCzPYcxT79eULSIcCgiHhc0ufILWdgZvYZxU7T/xbwIHBnflc/cgssmZl9RrE3ai8BRpKbSUtEvAr44zTMbAfFhsqHEbF91XxJ7dlxEWszs6JD5QlJ/wvoLOkkYD6wILuyzKxcFRsqVwN1wEvk3mS4ELgmq6LMrHwV+0i5M7mFq++C7R9p2hnYnFVhZlaeiu2pLCYXIvU6A4+nL8fMyl2xodIpIjbWb+Rffy6bksysnBUbKpskDa/fkPRl4INsSjKzclbsPZVvA/Ml1X9s6UHAuGxKMrNy1myoSNoH6EDuc5QP49PPUt6acW1mVoaaDZWI+ETSLRFxDLklEMzMmlTsPZXHJH1VkppvamZ7s2LvqUwCugAfS/qA3BAoIqJ7ZpWZWVkqdumDblkXYmZ7hmKXPpCk8yR9P7/dX9KIbEszs3JU7D2V/wSOAb6W396IP0zMzBpR7D2VoyNiuKTnASLiHUkdMqzLzMpUsT2Vrfk3EQaApD7AJ82dJOkUSa9IWiXp6p20O1tSSKossh4za6OKDZXpwMPA/pJ+BPwe+PHOTsiH0AxgDDAYOFfS4EbadQMuB/7QgrrNrI0q9unPfZKWAaPJPU7+l4hY2cxpI4BVEbEaQNIDwJnAigbtfghMA77bksLNrG3aaahI6gRcCHyR3AJNd0bEtiKv3Q9YU7BdCxzd4PpHAf0j4teSHCpme4Dmhj9zyX3k6UvkhjE3t+Dajc2+3b6ubf49RbcCVzR7IalKUo2kmrq6uhaUYGatrbnhz+CI+HsASbOBZ1tw7Vqgf8F2BbC2YLsbMBT4bX72/4FAtaQzIqKm8EIRMQuYBVBZWekFt83asOZ6KtvfidyCYU+9pcAgSQPzj5/HA9UF19sQEb0jYkBEDACeAXYIFDMrL831VI6Q9F7+tcitpv8eRbz3JyK2SboUWETu0wznRMTLkqYCNRFR3dS5Zla+dhoqEbFbH20aEQvJrbxfuO/aJtqesDvfy8zahmLnqZiZFaXYafp7rQFbflHqEjL1WqkLsD2OeypmlpRDxcyScqiYWVIOFTNLyqFiZkk5VMwsKYeKmSXlUDGzpBwqZpaUQ8XMknKomFlSDhUzS8qhYmZJOVTMLCmHipkl5VAxs6QcKmaWlFd+sz3anrxy32ulLqAJ7qmYWVIOFTNLyqFiZkk5VMwsKYeKmSXlUDGzpBwqZpaUQ8XMknKomFlSDhUzS8qhYmZJOVTMLCmHipkllWmoSDpF0iuSVkm6upHjkyStkLRc0mJJh2RZj5llL7NQkdQOmAGMAQYD50oa3KDZ80BlRAwDHgSmZVWPmbWOLHsqI4BVEbE6Ij4CHgDOLGwQEUsiYnN+8xmgIsN6zKwVZBkq/YA1Bdu1+X1NOR94pLEDkqok1UiqqaurS1iimaWWZaiokX3RaEPpPKASuKmx4xExKyIqI6KyT58+CUs0s9SyXE6yFuhfsF0BrG3YSNKJwGTgnyLiwwzrMbNWkGVPZSkwSNJASR2A8UB1YQNJRwF3AmdExJsZ1mJmrSSzUImIbcClwCJgJTAvIl6WNFXSGflmNwFdgfmSXpBU3cTlzKxMZLqafkQsBBY22HdtwesTs/z+Ztb6PKPWzJJyqJhZUg4VM0vKoWJmSTlUzCwph4qZJeVQMbOkHCpmlpRDxcyScqiYWVIOFTNLyqFiZkk5VMwsKYeKmSXlUDGzpBwqZpaUQ8XMknKomFlSDhUzS8qhYmZJOVTMLCmHipkl5VAxs6QcKmaWlEPFzJJyqJhZUg4VM0vKoWJmSTlUzCwph4qZJeVQMbOkHCpmllSmoSLpFEmvSFol6epGjneU9Mv88T9IGpBlPWaWvcxCRVI7YAYwBhgMnCtpcINm5wPvRMQXgVuBG7Oqx8xaR5Y9lRHAqohYHREfAQ8AZzZocyYwN//6QWC0JGVYk5llrH2G1+4HrCnYrgWObqpNRGyTtAHoBbxV2EhSFVCV39wo6ZVMKm4betPg58+S3DdMaU//szukmEZZhkpjPY7YhTZExCxgVoqi2jpJNRFRWeo6rOX8Z5eT5fCnFuhfsF0BrG2qjaT2QA/g7QxrMrOMZRkqS4FBkgZK6gCMB6obtKkG/kf+9dnAf0XEDj0VMysfmQ1/8vdILgUWAe2AORHxsqSpQE1EVAOzgXslrSLXQxmfVT1lZK8Y5u2h/GcHyB0DM0vJM2rNLCmHipkl5VAxs6QcKma7SNKlkrrnX98p6VlJo0tdV6k5VMx2XVVEvCfpZHKzwy8CppW4ppJzqLQBkiokPSypTtI6Sb+SVFHquqxZ9Y9OxwA/i4hl+N+UfwFtxM/ITQQ8iNz/8Rbk91nb9qKkhcDpwCOSutLI20z2Np6n0gZIeiEijmxun7Ut+eU9vkzu3fhvS+oN9I+I50tcWkm5p9I2vCXpPEnt8l/nAetLXZTtXER8DBxK7l4KQGf8b8o9lbZA0sHAHcAx5LrPTwHfjoi/lrQw2ylJdwD7AsdHxOGSegKLIuK/lbi0kspy6QMrUkS8DpxR6jqsxY6NiOGSngfID4E6lLqoUnOolJCka3dyOCLih61WjO2KrZL2IX9zVlIv4JPSllR6e/34r8Q2NfIFubV7rypVUVa0GcCvgD6SfgD8Hq+z7HsqbYWkbsC3yQXKPOCWiHiztFVZY/KPkS+OiNckDQFOJLeK4eMR8cfSVld6Hv6UWP7m3iTg6+QWAR8eEe+Utiprxs+BxyTNBaZFxMslrqdNcU+lhCTdBJxFbnGfGRGxscQlWZEkdQGuBU4B7qXgXkpE/KRUdbUF7qmU1hXAh8A1wOSCTycRuRu13UtVmDVrK7l7YB2BbvgG7XYOlRKKCN8oL0OSTgF+Qu6tFcMjYnOJS2pTPPwxayFJTwIX+l5K4xwqZpaUu99mlpRDxcyScqiYWVIOFWuWpJB0b8F2+/wqdb9OcO2nWth+iqTv7u73tew4VKwYm4Chkjrnt08C/taSC+Q/K7twux1ARBybpEJrMxwqVqxHgFPzr88F7q8/IGmEpKckPZ//72H5/RMlzZe0gNy09hMkLZH0C+ClfJuNBde5UtJSScvzb9Cr3z9Z0iuSHgcOy/5Htd3hyW9WrAeAa/NDnmHAHOAf88f+RG6hom2STgR+DHw1f+wYYFh+rZETgBHA0Ij4S+HF8yvSD8ofF1At6XhyvaTxwFHk/r4+ByzL7Ke03eZQsaJExHJJA8j1UhY2ONwDmCtpELm1RfYtOPabiHi7YPvZhoGSd3L+q359167kQqYb8HD9rFVJ1bv5o1jGPPyxlqgGbqZg6JP3Q2BJRAwlt7J8p4Jjmxq0bbhdT8C/R8SR+a8vRsTs/DHP0CwjDhVriTnA1Ih4qcH+Hnx643biLl57EfDN/MdcIKmfpP2B3wH/XVLn/Jozp+/i9a2VePhjRYuIWuD2Rg5NIzf8mQT81y5e+zFJhwNP59+tvRE4LyKek/RL4AXgr8CTu1S8tRq/98fMkvLwx8yScqiYWVIOFTNLyqFiZkk5VMwsKYeKmSXlUDGzpBwqZpbU/wf7tWzZhrb2OQAAAABJRU5ErkJggg==",
      "text/plain": [
       "<Figure size 288x288 with 1 Axes>"
      ]
     },
     "metadata": {},
     "output_type": "display_data"
    }
   ],
   "source": [
    "print(pd.crosstab(train['Married'],train['Loan_Status']))\n",
    "\n",
    "Married = pd.crosstab(train['Married'],train['Loan_Status'])\n",
    "Married.div(Married.sum(1).astype(float), axis=0).plot(kind=\"bar\", stacked=True, figsize=(4,4))\n",
    "plt.xlabel('Married')\n",
    "p = plt.ylabel('Percentage')"
   ]
  },
  {
   "cell_type": "code",
   "execution_count": 24,
   "metadata": {},
   "outputs": [
    {
     "name": "stdout",
     "output_type": "stream",
     "text": [
      "Loan_Status    N    Y\n",
      "Dependents           \n",
      "0            107  238\n",
      "1             36   66\n",
      "2             25   76\n",
      "3+            18   33\n"
     ]
    },
    {
     "data": {
      "image/png": "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",
      "text/plain": [
       "<Figure size 432x288 with 1 Axes>"
      ]
     },
     "metadata": {},
     "output_type": "display_data"
    }
   ],
   "source": [
    "print(pd.crosstab(train['Dependents'],train['Loan_Status']))\n",
    "\n",
    "Dependents=pd.crosstab(train['Dependents'],train['Loan_Status'])\n",
    "Dependents.div(Dependents.sum(1).astype(float), axis=0).plot(kind=\"bar\", stacked=True)\n",
    "plt.xlabel('Dependents')\n",
    "p = plt.ylabel('Percentage')"
   ]
  },
  {
   "cell_type": "code",
   "execution_count": 25,
   "metadata": {},
   "outputs": [
    {
     "name": "stdout",
     "output_type": "stream",
     "text": [
      "Loan_Status     N    Y\n",
      "Education             \n",
      "Graduate      140  340\n",
      "Not Graduate   52   82\n"
     ]
    },
    {
     "data": {
      "image/png": "iVBORw0KGgoAAAANSUhEUgAAARUAAAFDCAYAAAAUOZoIAAAABHNCSVQICAgIfAhkiAAAAAlwSFlzAAALEgAACxIB0t1+/AAAADl0RVh0U29mdHdhcmUAbWF0cGxvdGxpYiB2ZXJzaW9uIDIuMi4yLCBodHRwOi8vbWF0cGxvdGxpYi5vcmcvhp/UCwAAHMxJREFUeJzt3XucVWXd9/HPF5BDnJSDBxgUNDKRPNDcHsJMwkoeT92m4Cnyzie0PGRYaVlJVHceU0kLUSz1sQxMe6BQSm+iLE9jKqZmklpM+CCiIgdRwN/zx1qDm2GG2QNrzdqb+b5fr3mxr7WvveY3M/ZtXWtd61qKCMzMstKh6ALMbNviUDGzTDlUzCxTDhUzy5RDxcwy5VAxs0w5VMwsUw4VM8uUQ8XMMtWp6AJaq1+/fjF48OCiyzBrdx599NFXIqJ/S/2qLlQGDx5MXV1d0WWYtTuS/llOPw9/zCxTDhUzy5RDxcwyVXXnVMzysHbtWurr61mzZk3RpRSua9eu1NTUsN12223R5x0qZkB9fT09e/Zk8ODBSCq6nMJEBMuWLaO+vp4hQ4Zs0T5yG/5IuknSy5L+2sz7kjRF0kJJCySNyKsWs5asWbOGvn37tutAAZBE3759t+qILc9zKj8FjtjM+2OAoenXBODHOdZi1qL2HigNtvb3kFuoRMQfgFc30+VY4JZIPAhsL2mXvOoxs7ZR5DmVgcCiknZ9uu2lxh0lTSA5mmHXXXdtk+I2mNS7bb9fW5u0vOgK8lXu3+8TM2BxlZ2kHbB/0RU0qchLyk0dYzW5CndETIuI2oio7d+/xVnCZpnoMXRkm3/P711zI3uPOp59Dh/Lfh87kYf+8iQAV99wG6vffLPFz1999dWsXr067zI3q8hQqQcGlbRrgMUF1WJWuAfqnuDX9/6Rv9zzMxbcO4N7f/FjBg3YGYCrb/wZq99s+UiqvYfKLGB8ehXoIGB5RGwy9DGrJP+sX8zosWewz+FjGT32DP717+Q/2dm/nc+BR41n/4+fxOHjzmTJ0mUATLpyKp+dOInDjv8cux98NFOm/7zZfb/08iv067M9Xbp0BqBfnx0YsHN/pkz/OYuXLGXUCWcw6vgJAHz+wv+mtraWvffem4svvhiAKVOmsHjxYkaNGsWoUaMA6NGjx4b933HHHZx22mkAzJw5k+HDh7Pvvvty6KGHZvo7yvOS8s+BB4A9JdVLOl3SmZLOTLvMAZ4HFgI3AF/IqxazrJx90aWMP/4oFtw7g1OOG8O537wcgEMO2J8HZ9/MY7/9OSce+wku+9HNGz7zt4UvMve263j4N7fw7R9MY+3atU3u++MfOZhFi5fwvkM+yRe+9n3mP/AoAOeefhIDdurPvJnXM++OaQB874KzqKurY8GCBcyfP58FCxZw7rnnMmDAAObNm8e8efM2+3NMnjyZuXPn8sQTTzBr1qwsfjUb5HaiNiJOauH9AM7K6/ub5eGBR5/kzhuvAODTnzqSr353CgD1Ly1h3Ocv5KWXX+Htt9cyZNcBGz5z5OhD6NKlM126dGbHfjuwZOmr1AzYaZN99+j+Hh695zb++NBjzPvzI4z7/IVc8rVzOG3cMZv0nTH7d0z79ETWrVvHSy+9xNNPP80+++xT9s8xcuRITjvtNMaOHctxxx3X2l/DZvneH7Ot0DCl45xvXsbZ/zWOJ++bwfWXXsSat97e0KdhOAPQsWNH1q1f3+z+OnbsyGEfquXbX/481373An45575N+rzwr39zxfW3cN9997FgwQKOPPLIZierlc45Ke0zdepUvvvd77Jo0SL2228/li1bVvbP3BKHilkrfKh2H27/v3MBuO3OuznkgOSy7vI3VjJw5+TK5M0zZ2/Rvp9d+CLPPf+vDe3Hn3qW3WqSqVs9e3RnxcrkBOwbK1bRvVs3evfuzZIlS7j77rs3fKZnz56sWLFiQ3unnXbimWee4Z133uGuu+7asP0f//gHBx54IJMnT6Zfv34sWlQ6u2Pr+N4fs2asfnMNNR98d1L4xAmnMuU7X+WzEydx+dRb6N9nB35y1SQAJp1/BieccQEDd+7PQSM+wAuLWn
